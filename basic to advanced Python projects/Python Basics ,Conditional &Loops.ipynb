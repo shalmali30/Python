{
 "cells": [
  {
   "cell_type": "markdown",
   "id": "f20f0b66-910c-4544-9182-71becfd77d17",
   "metadata": {},
   "source": [
    "### Q1.\n",
    "##### Write a program which will find all such numbers which are divisible by 7 but are not a multiple of 5, between 2000 and 3200 (both included). The numbers obtained should be printed in a comma-separated sequence on a single line.\n",
    "\n",
    "#### A1 Using numpy array:"
   ]
  },
  {
   "cell_type": "code",
   "execution_count": 1,
   "id": "52fe6200-dd8f-46a0-9076-e46d66b2160f",
   "metadata": {},
   "outputs": [],
   "source": [
    "import numpy as np\n"
   ]
  },
  {
   "cell_type": "code",
   "execution_count": 5,
   "id": "63450458-07ba-4f8d-8a06-0b01c1079b85",
   "metadata": {},
   "outputs": [],
   "source": [
    "ar= np.arange(2000,3201, step =1)"
   ]
  },
  {
   "cell_type": "code",
   "execution_count": 6,
   "id": "e417425a-c64e-487c-9f1d-5b9baba10e2b",
   "metadata": {},
   "outputs": [
    {
     "data": {
      "text/plain": [
       "array([2000, 2001, 2002, ..., 3198, 3199, 3200])"
      ]
     },
     "execution_count": 6,
     "metadata": {},
     "output_type": "execute_result"
    }
   ],
   "source": [
    "ar"
   ]
  },
  {
   "cell_type": "code",
   "execution_count": 9,
   "id": "f53bd02d-4953-476a-bbdc-93ba3c4643bf",
   "metadata": {},
   "outputs": [],
   "source": [
    "Numbers= ar[(ar % 7 ==0) & (ar % 5 !=0)]"
   ]
  },
  {
   "cell_type": "code",
   "execution_count": 10,
   "id": "a33ad265-70fe-4f50-ada3-5d3695bafe21",
   "metadata": {},
   "outputs": [
    {
     "name": "stdout",
     "output_type": "stream",
     "text": [
      "[2002 2009 2016 2023 2037 2044 2051 2058 2072 2079 2086 2093 2107 2114\n",
      " 2121 2128 2142 2149 2156 2163 2177 2184 2191 2198 2212 2219 2226 2233\n",
      " 2247 2254 2261 2268 2282 2289 2296 2303 2317 2324 2331 2338 2352 2359\n",
      " 2366 2373 2387 2394 2401 2408 2422 2429 2436 2443 2457 2464 2471 2478\n",
      " 2492 2499 2506 2513 2527 2534 2541 2548 2562 2569 2576 2583 2597 2604\n",
      " 2611 2618 2632 2639 2646 2653 2667 2674 2681 2688 2702 2709 2716 2723\n",
      " 2737 2744 2751 2758 2772 2779 2786 2793 2807 2814 2821 2828 2842 2849\n",
      " 2856 2863 2877 2884 2891 2898 2912 2919 2926 2933 2947 2954 2961 2968\n",
      " 2982 2989 2996 3003 3017 3024 3031 3038 3052 3059 3066 3073 3087 3094\n",
      " 3101 3108 3122 3129 3136 3143 3157 3164 3171 3178 3192 3199]\n"
     ]
    }
   ],
   "source": [
    "print(Numbers)"
   ]
  },
  {
   "cell_type": "markdown",
   "id": "31e3ccf5-61fa-4594-8d30-d308cd36b021",
   "metadata": {},
   "source": [
    "##### A2 Using list and for loop"
   ]
  },
  {
   "cell_type": "code",
   "execution_count": 16,
   "id": "2b720a35-262d-4350-a389-86250f4bd3d8",
   "metadata": {},
   "outputs": [
    {
     "name": "stdout",
     "output_type": "stream",
     "text": [
      "[2002, 2009, 2016, 2023, 2037, 2044, 2051, 2058, 2072, 2079, 2086, 2093, 2107, 2114, 2121, 2128, 2142, 2149, 2156, 2163, 2177, 2184, 2191, 2198, 2212, 2219, 2226, 2233, 2247, 2254, 2261, 2268, 2282, 2289, 2296, 2303, 2317, 2324, 2331, 2338, 2352, 2359, 2366, 2373, 2387, 2394, 2401, 2408, 2422, 2429, 2436, 2443, 2457, 2464, 2471, 2478, 2492, 2499, 2506, 2513, 2527, 2534, 2541, 2548, 2562, 2569, 2576, 2583, 2597, 2604, 2611, 2618, 2632, 2639, 2646, 2653, 2667, 2674, 2681, 2688, 2702, 2709, 2716, 2723, 2737, 2744, 2751, 2758, 2772, 2779, 2786, 2793, 2807, 2814, 2821, 2828, 2842, 2849, 2856, 2863, 2877, 2884, 2891, 2898, 2912, 2919, 2926, 2933, 2947, 2954, 2961, 2968, 2982, 2989, 2996, 3003, 3017, 3024, 3031, 3038, 3052, 3059, 3066, 3073, 3087, 3094, 3101, 3108, 3122, 3129, 3136, 3143, 3157, 3164, 3171, 3178, 3192, 3199]\n"
     ]
    }
   ],
   "source": [
    "\n",
    "output_numbers = [num for num in range(2000, 3201) if num % 7 == 0 and num % 5 != 0]\n",
    "print(output_numbers)\n"
   ]
  },
  {
   "cell_type": "code",
   "execution_count": 21,
   "id": "5fdb95e5-7e38-4929-9d7e-4fbfc28ed539",
   "metadata": {},
   "outputs": [
    {
     "name": "stdout",
     "output_type": "stream",
     "text": [
      "[2002, 2009, 2016, 2023, 2037, 2044, 2051, 2058, 2072, 2079, 2086, 2093, 2107, 2114, 2121, 2128, 2142, 2149, 2156, 2163, 2177, 2184, 2191, 2198, 2212, 2219, 2226, 2233, 2247, 2254, 2261, 2268, 2282, 2289, 2296, 2303, 2317, 2324, 2331, 2338, 2352, 2359, 2366, 2373, 2387, 2394, 2401, 2408, 2422, 2429, 2436, 2443, 2457, 2464, 2471, 2478, 2492, 2499, 2506, 2513, 2527, 2534, 2541, 2548, 2562, 2569, 2576, 2583, 2597, 2604, 2611, 2618, 2632, 2639, 2646, 2653, 2667, 2674, 2681, 2688, 2702, 2709, 2716, 2723, 2737, 2744, 2751, 2758, 2772, 2779, 2786, 2793, 2807, 2814, 2821, 2828, 2842, 2849, 2856, 2863, 2877, 2884, 2891, 2898, 2912, 2919, 2926, 2933, 2947, 2954, 2961, 2968, 2982, 2989, 2996, 3003, 3017, 3024, 3031, 3038, 3052, 3059, 3066, 3073, 3087, 3094, 3101, 3108, 3122, 3129, 3136, 3143, 3157, 3164, 3171, 3178, 3192, 3199]\n"
     ]
    }
   ],
   "source": [
    "numbers_list = []    #declared empty list to capture the output\n",
    "\n",
    "for num in range(2000,3201):\n",
    "    if num % 7 ==0 and num % 5 != 0:\n",
    "        numbers_list.append(num)\n",
    "print (numbers_list)\n",
    "   "
   ]
  },
  {
   "cell_type": "markdown",
   "id": "5811f827-dde8-43fb-b344-b8a0dc49fc30",
   "metadata": {},
   "source": [
    "### Q2. \n",
    "#####  Write a Python program to accept the user's first and last name and then getting them printed in the the reverse order with a space between first name and last name."
   ]
  },
  {
   "cell_type": "code",
   "execution_count": 24,
   "id": "da670b91-fe76-4fd5-8c8c-b2a10b0d0a36",
   "metadata": {},
   "outputs": [
    {
     "name": "stdout",
     "output_type": "stream",
     "text": [
      "rakbmiL ilamlahs\n"
     ]
    }
   ],
   "source": [
    "name = 'shalmali Limbkar'     # Test without accepting use input\n",
    "reversed_string = name[::-1]\n",
    "print(reversed_string)"
   ]
  },
  {
   "cell_type": "code",
   "execution_count": 25,
   "id": "81ea23a9-d212-4390-8c37-b0953fc97a85",
   "metadata": {},
   "outputs": [
    {
     "name": "stdin",
     "output_type": "stream",
     "text": [
      "Enter your first name:  shalmali\n",
      "Enter your last name:  Limbkar\n"
     ]
    }
   ],
   "source": [
    "# Accept the user's first name\n",
    "first_name = input(\"Enter your first name: \")\n",
    "\n",
    "# Accept the user's last name\n",
    "last_name = input(\"Enter your last name: \")"
   ]
  },
  {
   "cell_type": "code",
   "execution_count": 26,
   "id": "84db956d-c087-4297-8a83-cec23de2dc8b",
   "metadata": {},
   "outputs": [
    {
     "name": "stdout",
     "output_type": "stream",
     "text": [
      "Reversedname: rakbmiL ilamlahs\n"
     ]
    }
   ],
   "source": [
    "print('Reversedname:', last_name[::-1], first_name[::-1])"
   ]
  },
  {
   "cell_type": "markdown",
   "id": "a3a2fbd8-5344-4b74-903d-0149f22e684a",
   "metadata": {},
   "source": [
    "### Q3.\n",
    "#####  Write a Python program to find the volume of a sphere with diameter 12 cm."
   ]
  },
  {
   "cell_type": "code",
   "execution_count": 27,
   "id": "1f7502f6-8140-4414-97f0-1a1a40e61446",
   "metadata": {},
   "outputs": [],
   "source": [
    "# vol = 4/3*pi*r2"
   ]
  },
  {
   "cell_type": "code",
   "execution_count": 38,
   "id": "74f18734-dca2-4854-a4a4-2e96a21811f2",
   "metadata": {},
   "outputs": [
    {
     "data": {
      "text/plain": [
       "6.0"
      ]
     },
     "execution_count": 38,
     "metadata": {},
     "output_type": "execute_result"
    }
   ],
   "source": [
    "diameter = 12\n",
    "radius = diameter/2 \n",
    "radius"
   ]
  },
  {
   "cell_type": "code",
   "execution_count": 30,
   "id": "9c16196c-7401-4949-b93f-c2cee3f72eb4",
   "metadata": {},
   "outputs": [
    {
     "name": "stdout",
     "output_type": "stream",
     "text": [
      "Value of pi: 3.141592653589793\n"
     ]
    }
   ],
   "source": [
    "import math\n",
    "\n",
    "pi_value = math.pi\n",
    "print(\"Value of pi:\", pi_value)"
   ]
  },
  {
   "cell_type": "code",
   "execution_count": 31,
   "id": "1f28a72c-9062-45cd-b14d-917749e58dfa",
   "metadata": {},
   "outputs": [
    {
     "name": "stdout",
     "output_type": "stream",
     "text": [
      "Value of pi: 3.141592653589793\n"
     ]
    }
   ],
   "source": [
    "import numpy as np\n",
    "\n",
    "pi_value = np.pi\n",
    "print(\"Value of pi:\", pi_value)\n"
   ]
  },
  {
   "cell_type": "code",
   "execution_count": 33,
   "id": "c454a5c0-c611-4186-8406-1116dbe9fde8",
   "metadata": {},
   "outputs": [
    {
     "name": "stdout",
     "output_type": "stream",
     "text": [
      "Square of 6.0 is 36.0\n"
     ]
    }
   ],
   "source": [
    "# Square a number using the exponentiation operator\n",
    "squared = radius ** 2\n",
    "print(\"Square of\", radius, \"is\", squared)\n"
   ]
  },
  {
   "cell_type": "code",
   "execution_count": 39,
   "id": "8c73aaa3-36a9-4219-b911-a062c94f713c",
   "metadata": {},
   "outputs": [
    {
     "name": "stdout",
     "output_type": "stream",
     "text": [
      "Square of 6.0 is 36.0\n"
     ]
    }
   ],
   "source": [
    "# Square a number using the pow() function\n",
    "squared = pow(radius, 2)\n",
    "print(\"Square of\", radius, \"is\", squared)\n"
   ]
  },
  {
   "cell_type": "code",
   "execution_count": 40,
   "id": "e88758d3-c970-46d9-917e-f35fa5c604a7",
   "metadata": {},
   "outputs": [
    {
     "data": {
      "text/plain": [
       "1.3333333333333333"
      ]
     },
     "execution_count": 40,
     "metadata": {},
     "output_type": "execute_result"
    }
   ],
   "source": [
    "a= 4/3\n",
    "a"
   ]
  },
  {
   "cell_type": "code",
   "execution_count": 41,
   "id": "99934e38-cb6f-4e98-b893-d47d85cc4199",
   "metadata": {},
   "outputs": [],
   "source": [
    "Vol = a*pi_value*squared"
   ]
  },
  {
   "cell_type": "code",
   "execution_count": 43,
   "id": "378ea86a-f935-41b6-91fb-3b051d137411",
   "metadata": {},
   "outputs": [
    {
     "data": {
      "text/plain": [
       "150.79644737231007"
      ]
     },
     "execution_count": 43,
     "metadata": {},
     "output_type": "execute_result"
    }
   ],
   "source": [
    "Vol"
   ]
  },
  {
   "attachments": {
    "f255319e-e0b7-47ef-94a8-4a4f4e6872e0.png": {
     "image/png": "[encoded data removed]"
    }
   },
   "cell_type": "markdown",
   "id": "e1dc6f5d-dd37-45c4-9f99-840720e19a03",
   "metadata": {},
   "source": [
    "### Q4\n",
    "\n",
    "![image.png](attachment:f255319e-e0b7-47ef-94a8-4a4f4e6872e0.png)"
   ]
  },
  {
   "cell_type": "code",
   "execution_count": 58,
   "id": "57b7cc5b-7c57-432f-a96d-96c371441ecb",
   "metadata": {},
   "outputs": [
    {
     "name": "stdout",
     "output_type": "stream",
     "text": [
      "*    \n",
      "**   \n",
      "***  \n",
      "**** \n",
      "*****\n",
      "**** \n",
      "***  \n",
      "**   \n",
      "*    \n",
      "     \n"
     ]
    }
   ],
   "source": [
    "# using 2 for loops : easy \n",
    "\n",
    "\n",
    "for i in range(1, 5 + 1):\n",
    "    print(\"*\" * i + (5 - i) * \" \")         \n",
    "for i in range(1, 5 + 1):\n",
    "    print(\"*\" * (5 - i) +  \" \" *i) "
   ]
  },
  {
   "cell_type": "code",
   "execution_count": 59,
   "id": "214f3b45-1516-4e9b-b259-de5f6bfe2094",
   "metadata": {},
   "outputs": [
    {
     "name": "stdout",
     "output_type": "stream",
     "text": [
      "*\n",
      "**\n",
      "***\n",
      "****\n",
      "*****\n",
      "****\n",
      "***\n",
      "**\n",
      "*\n"
     ]
    }
   ],
   "source": [
    "# Using nested for loop\n",
    "\n",
    "# Upper triangle\n",
    "for i in range(1, 5 + 1):\n",
    "    for j in range(i):\n",
    "        print(\"*\", end=\"\")\n",
    "    print()\n",
    "\n",
    "# Lower triangle\n",
    "for i in range(4, 0, -1):\n",
    "    for j in range(i):\n",
    "        print(\"*\", end=\"\")\n",
    "    print()"
   ]
  },
  {
   "cell_type": "markdown",
   "id": "594353ff-c3a5-4452-a6c6-4193980bc9d8",
   "metadata": {},
   "source": [
    "### Q 5\n",
    "##### Write a Python program to reverse a word after accepting the input from the user."
   ]
  },
  {
   "cell_type": "code",
   "execution_count": 60,
   "id": "2d157f7c-8824-4c8b-b600-ef3021c2051d",
   "metadata": {},
   "outputs": [
    {
     "name": "stdin",
     "output_type": "stream",
     "text": [
      "enter input string shalmali\n"
     ]
    },
    {
     "name": "stdout",
     "output_type": "stream",
     "text": [
      "ilamlahs\n"
     ]
    }
   ],
   "source": [
    "word = input(\"enter input string\")\n",
    "reversed_string = word[::-1]\n",
    "print(reversed_string)"
   ]
  },
  {
   "cell_type": "code",
   "execution_count": null,
   "id": "bab326dd-807b-4362-8cd7-153e1b4558c1",
   "metadata": {},
   "outputs": [],
   "source": []
  }
 ],
 "metadata": {
  "kernelspec": {
   "display_name": "Python 3 (ipykernel)",
   "language": "python",
   "name": "python3"
  },
  "language_info": {
   "codemirror_mode": {
    "name": "ipython",
    "version": 3
   },
   "file_extension": ".py",
   "mimetype": "text/x-python",
   "name": "python",
   "nbconvert_exporter": "python",
   "pygments_lexer": "ipython3",
   "version": "3.11.7"
  }
 },
 "nbformat": 4,
 "nbformat_minor": 5
}
