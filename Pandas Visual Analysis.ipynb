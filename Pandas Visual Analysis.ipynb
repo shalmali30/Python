{
 "cells": [
  {
   "cell_type": "code",
   "execution_count": 2,
   "id": "9d102958-33c6-4bff-a4d8-8ed26f93dfc7",
   "metadata": {},
   "outputs": [],
   "source": [
    "import seaborn as sns\n",
    "df=sns.load_dataset('iris')"
   ]
  },
  {
   "cell_type": "code",
   "execution_count": 7,
   "id": "15c9f8fc-525f-4a36-a57a-216470551c38",
   "metadata": {},
   "outputs": [
    {
     "name": "stdout",
     "output_type": "stream",
     "text": [
      "Requirement already satisfied: notebook>=5.3 in c:\\users\\shalm\\anaconda3\\lib\\site-packages (7.0.8)\n",
      "Requirement already satisfied: ipywidgets>=7.5 in c:\\users\\shalm\\anaconda3\\lib\\site-packages (8.1.2)\n",
      "Requirement already satisfied: jupyter-server<3,>=2.4.0 in c:\\users\\shalm\\anaconda3\\lib\\site-packages (from notebook>=5.3) (2.10.0)\n",
      "Requirement already satisfied: jupyterlab-server<3,>=2.22.1 in c:\\users\\shalm\\anaconda3\\lib\\site-packages (from notebook>=5.3) (2.25.1)\n",
      "Requirement already satisfied: jupyterlab<4.1,>=4.0.2 in c:\\users\\shalm\\anaconda3\\lib\\site-packages (from notebook>=5.3) (4.0.11)\n",
      "Requirement already satisfied: notebook-shim<0.3,>=0.2 in c:\\users\\shalm\\anaconda3\\lib\\site-packages (from notebook>=5.3) (0.2.3)\n",
      "Requirement already satisfied: tornado>=6.2.0 in c:\\users\\shalm\\anaconda3\\lib\\site-packages (from notebook>=5.3) (6.3.3)\n",
      "Requirement already satisfied: comm>=0.1.3 in c:\\users\\shalm\\anaconda3\\lib\\site-packages (from ipywidgets>=7.5) (0.2.1)\n",
      "Requirement already satisfied: ipython>=6.1.0 in c:\\users\\shalm\\anaconda3\\lib\\site-packages (from ipywidgets>=7.5) (8.20.0)\n",
      "Requirement already satisfied: traitlets>=4.3.1 in c:\\users\\shalm\\anaconda3\\lib\\site-packages (from ipywidgets>=7.5) (5.7.1)\n",
      "Requirement already satisfied: widgetsnbextension~=4.0.10 in c:\\users\\shalm\\anaconda3\\lib\\site-packages (from ipywidgets>=7.5) (4.0.10)\n",
      "Requirement already satisfied: jupyterlab-widgets~=3.0.10 in c:\\users\\shalm\\anaconda3\\lib\\site-packages (from ipywidgets>=7.5) (3.0.10)\n",
      "Requirement already satisfied: decorator in c:\\users\\shalm\\anaconda3\\lib\\site-packages (from ipython>=6.1.0->ipywidgets>=7.5) (5.1.1)\n",
      "Requirement already satisfied: jedi>=0.16 in c:\\users\\shalm\\anaconda3\\lib\\site-packages (from ipython>=6.1.0->ipywidgets>=7.5) (0.18.1)\n",
      "Requirement already satisfied: matplotlib-inline in c:\\users\\shalm\\anaconda3\\lib\\site-packages (from ipython>=6.1.0->ipywidgets>=7.5) (0.1.6)\n",
      "Requirement already satisfied: prompt-toolkit<3.1.0,>=3.0.41 in c:\\users\\shalm\\anaconda3\\lib\\site-packages (from ipython>=6.1.0->ipywidgets>=7.5) (3.0.43)\n",
      "Requirement already satisfied: pygments>=2.4.0 in c:\\users\\shalm\\anaconda3\\lib\\site-packages (from ipython>=6.1.0->ipywidgets>=7.5) (2.15.1)\n",
      "Requirement already satisfied: stack-data in c:\\users\\shalm\\anaconda3\\lib\\site-packages (from ipython>=6.1.0->ipywidgets>=7.5) (0.2.0)\n",
      "Requirement already satisfied: colorama in c:\\users\\shalm\\anaconda3\\lib\\site-packages (from ipython>=6.1.0->ipywidgets>=7.5) (0.4.6)\n",
      "Requirement already satisfied: anyio>=3.1.0 in c:\\users\\shalm\\anaconda3\\lib\\site-packages (from jupyter-server<3,>=2.4.0->notebook>=5.3) (4.2.0)\n",
      "Requirement already satisfied: argon2-cffi in c:\\users\\shalm\\anaconda3\\lib\\site-packages (from jupyter-server<3,>=2.4.0->notebook>=5.3) (21.3.0)\n",
      "Requirement already satisfied: jinja2 in c:\\users\\shalm\\anaconda3\\lib\\site-packages (from jupyter-server<3,>=2.4.0->notebook>=5.3) (3.1.3)\n",
      "Requirement already satisfied: jupyter-client>=7.4.4 in c:\\users\\shalm\\anaconda3\\lib\\site-packages (from jupyter-server<3,>=2.4.0->notebook>=5.3) (8.6.0)\n",
      "Requirement already satisfied: jupyter-core!=5.0.*,>=4.12 in c:\\users\\shalm\\anaconda3\\lib\\site-packages (from jupyter-server<3,>=2.4.0->notebook>=5.3) (5.5.0)\n",
      "Requirement already satisfied: jupyter-events>=0.6.0 in c:\\users\\shalm\\anaconda3\\lib\\site-packages (from jupyter-server<3,>=2.4.0->notebook>=5.3) (0.8.0)\n",
      "Requirement already satisfied: jupyter-server-terminals in c:\\users\\shalm\\anaconda3\\lib\\site-packages (from jupyter-server<3,>=2.4.0->notebook>=5.3) (0.4.4)\n",
      "Requirement already satisfied: nbconvert>=6.4.4 in c:\\users\\shalm\\anaconda3\\lib\\site-packages (from jupyter-server<3,>=2.4.0->notebook>=5.3) (7.10.0)\n",
      "Requirement already satisfied: nbformat>=5.3.0 in c:\\users\\shalm\\anaconda3\\lib\\site-packages (from jupyter-server<3,>=2.4.0->notebook>=5.3) (5.9.2)\n",
      "Requirement already satisfied: overrides in c:\\users\\shalm\\anaconda3\\lib\\site-packages (from jupyter-server<3,>=2.4.0->notebook>=5.3) (7.4.0)\n",
      "Requirement already satisfied: packaging in c:\\users\\shalm\\anaconda3\\lib\\site-packages (from jupyter-server<3,>=2.4.0->notebook>=5.3) (23.1)\n",
      "Requirement already satisfied: prometheus-client in c:\\users\\shalm\\anaconda3\\lib\\site-packages (from jupyter-server<3,>=2.4.0->notebook>=5.3) (0.14.1)\n",
      "Requirement already satisfied: pywinpty in c:\\users\\shalm\\anaconda3\\lib\\site-packages (from jupyter-server<3,>=2.4.0->notebook>=5.3) (2.0.10)\n",
      "Requirement already satisfied: pyzmq>=24 in c:\\users\\shalm\\anaconda3\\lib\\site-packages (from jupyter-server<3,>=2.4.0->notebook>=5.3) (25.1.2)\n",
      "Requirement already satisfied: send2trash>=1.8.2 in c:\\users\\shalm\\anaconda3\\lib\\site-packages (from jupyter-server<3,>=2.4.0->notebook>=5.3) (1.8.2)\n",
      "Requirement already satisfied: terminado>=0.8.3 in c:\\users\\shalm\\anaconda3\\lib\\site-packages (from jupyter-server<3,>=2.4.0->notebook>=5.3) (0.17.1)\n",
      "Requirement already satisfied: websocket-client in c:\\users\\shalm\\anaconda3\\lib\\site-packages (from jupyter-server<3,>=2.4.0->notebook>=5.3) (0.58.0)\n",
      "Requirement already satisfied: async-lru>=1.0.0 in c:\\users\\shalm\\anaconda3\\lib\\site-packages (from jupyterlab<4.1,>=4.0.2->notebook>=5.3) (2.0.4)\n",
      "Requirement already satisfied: ipykernel in c:\\users\\shalm\\anaconda3\\lib\\site-packages (from jupyterlab<4.1,>=4.0.2->notebook>=5.3) (6.28.0)\n",
      "Requirement already satisfied: jupyter-lsp>=2.0.0 in c:\\users\\shalm\\anaconda3\\lib\\site-packages (from jupyterlab<4.1,>=4.0.2->notebook>=5.3) (2.2.0)\n",
      "Requirement already satisfied: babel>=2.10 in c:\\users\\shalm\\anaconda3\\lib\\site-packages (from jupyterlab-server<3,>=2.22.1->notebook>=5.3) (2.11.0)\n",
      "Requirement already satisfied: json5>=0.9.0 in c:\\users\\shalm\\anaconda3\\lib\\site-packages (from jupyterlab-server<3,>=2.22.1->notebook>=5.3) (0.9.6)\n",
      "Requirement already satisfied: jsonschema>=4.18.0 in c:\\users\\shalm\\anaconda3\\lib\\site-packages (from jupyterlab-server<3,>=2.22.1->notebook>=5.3) (4.19.2)\n",
      "Requirement already satisfied: requests>=2.31 in c:\\users\\shalm\\anaconda3\\lib\\site-packages (from jupyterlab-server<3,>=2.22.1->notebook>=5.3) (2.31.0)\n",
      "Requirement already satisfied: idna>=2.8 in c:\\users\\shalm\\anaconda3\\lib\\site-packages (from anyio>=3.1.0->jupyter-server<3,>=2.4.0->notebook>=5.3) (3.4)\n",
      "Requirement already satisfied: sniffio>=1.1 in c:\\users\\shalm\\anaconda3\\lib\\site-packages (from anyio>=3.1.0->jupyter-server<3,>=2.4.0->notebook>=5.3) (1.3.0)\n",
      "Requirement already satisfied: pytz>=2015.7 in c:\\users\\shalm\\anaconda3\\lib\\site-packages (from babel>=2.10->jupyterlab-server<3,>=2.22.1->notebook>=5.3) (2023.3.post1)\n",
      "Requirement already satisfied: parso<0.9.0,>=0.8.0 in c:\\users\\shalm\\anaconda3\\lib\\site-packages (from jedi>=0.16->ipython>=6.1.0->ipywidgets>=7.5) (0.8.3)\n",
      "Requirement already satisfied: MarkupSafe>=2.0 in c:\\users\\shalm\\anaconda3\\lib\\site-packages (from jinja2->jupyter-server<3,>=2.4.0->notebook>=5.3) (2.1.3)\n",
      "Requirement already satisfied: attrs>=22.2.0 in c:\\users\\shalm\\anaconda3\\lib\\site-packages (from jsonschema>=4.18.0->jupyterlab-server<3,>=2.22.1->notebook>=5.3) (23.1.0)\n",
      "Requirement already satisfied: jsonschema-specifications>=2023.03.6 in c:\\users\\shalm\\anaconda3\\lib\\site-packages (from jsonschema>=4.18.0->jupyterlab-server<3,>=2.22.1->notebook>=5.3) (2023.7.1)\n",
      "Requirement already satisfied: referencing>=0.28.4 in c:\\users\\shalm\\anaconda3\\lib\\site-packages (from jsonschema>=4.18.0->jupyterlab-server<3,>=2.22.1->notebook>=5.3) (0.30.2)\n",
      "Requirement already satisfied: rpds-py>=0.7.1 in c:\\users\\shalm\\anaconda3\\lib\\site-packages (from jsonschema>=4.18.0->jupyterlab-server<3,>=2.22.1->notebook>=5.3) (0.10.6)\n",
      "Requirement already satisfied: python-dateutil>=2.8.2 in c:\\users\\shalm\\anaconda3\\lib\\site-packages (from jupyter-client>=7.4.4->jupyter-server<3,>=2.4.0->notebook>=5.3) (2.8.2)\n",
      "Requirement already satisfied: platformdirs>=2.5 in c:\\users\\shalm\\anaconda3\\lib\\site-packages (from jupyter-core!=5.0.*,>=4.12->jupyter-server<3,>=2.4.0->notebook>=5.3) (3.10.0)\n",
      "Requirement already satisfied: pywin32>=300 in c:\\users\\shalm\\anaconda3\\lib\\site-packages (from jupyter-core!=5.0.*,>=4.12->jupyter-server<3,>=2.4.0->notebook>=5.3) (305.1)\n",
      "Requirement already satisfied: python-json-logger>=2.0.4 in c:\\users\\shalm\\anaconda3\\lib\\site-packages (from jupyter-events>=0.6.0->jupyter-server<3,>=2.4.0->notebook>=5.3) (2.0.7)\n",
      "Requirement already satisfied: pyyaml>=5.3 in c:\\users\\shalm\\anaconda3\\lib\\site-packages (from jupyter-events>=0.6.0->jupyter-server<3,>=2.4.0->notebook>=5.3) (6.0.1)\n",
      "Requirement already satisfied: rfc3339-validator in c:\\users\\shalm\\anaconda3\\lib\\site-packages (from jupyter-events>=0.6.0->jupyter-server<3,>=2.4.0->notebook>=5.3) (0.1.4)\n",
      "Requirement already satisfied: rfc3986-validator>=0.1.1 in c:\\users\\shalm\\anaconda3\\lib\\site-packages (from jupyter-events>=0.6.0->jupyter-server<3,>=2.4.0->notebook>=5.3) (0.1.1)\n",
      "Requirement already satisfied: beautifulsoup4 in c:\\users\\shalm\\anaconda3\\lib\\site-packages (from nbconvert>=6.4.4->jupyter-server<3,>=2.4.0->notebook>=5.3) (4.12.2)\n",
      "Requirement already satisfied: bleach!=5.0.0 in c:\\users\\shalm\\anaconda3\\lib\\site-packages (from nbconvert>=6.4.4->jupyter-server<3,>=2.4.0->notebook>=5.3) (4.1.0)\n",
      "Requirement already satisfied: defusedxml in c:\\users\\shalm\\anaconda3\\lib\\site-packages (from nbconvert>=6.4.4->jupyter-server<3,>=2.4.0->notebook>=5.3) (0.7.1)\n",
      "Requirement already satisfied: jupyterlab-pygments in c:\\users\\shalm\\anaconda3\\lib\\site-packages (from nbconvert>=6.4.4->jupyter-server<3,>=2.4.0->notebook>=5.3) (0.1.2)\n",
      "Requirement already satisfied: mistune<4,>=2.0.3 in c:\\users\\shalm\\anaconda3\\lib\\site-packages (from nbconvert>=6.4.4->jupyter-server<3,>=2.4.0->notebook>=5.3) (2.0.4)\n",
      "Requirement already satisfied: nbclient>=0.5.0 in c:\\users\\shalm\\anaconda3\\lib\\site-packages (from nbconvert>=6.4.4->jupyter-server<3,>=2.4.0->notebook>=5.3) (0.8.0)\n",
      "Requirement already satisfied: pandocfilters>=1.4.1 in c:\\users\\shalm\\anaconda3\\lib\\site-packages (from nbconvert>=6.4.4->jupyter-server<3,>=2.4.0->notebook>=5.3) (1.5.0)\n",
      "Requirement already satisfied: tinycss2 in c:\\users\\shalm\\anaconda3\\lib\\site-packages (from nbconvert>=6.4.4->jupyter-server<3,>=2.4.0->notebook>=5.3) (1.2.1)\n",
      "Requirement already satisfied: fastjsonschema in c:\\users\\shalm\\anaconda3\\lib\\site-packages (from nbformat>=5.3.0->jupyter-server<3,>=2.4.0->notebook>=5.3) (2.16.2)\n",
      "Requirement already satisfied: wcwidth in c:\\users\\shalm\\anaconda3\\lib\\site-packages (from prompt-toolkit<3.1.0,>=3.0.41->ipython>=6.1.0->ipywidgets>=7.5) (0.2.5)\n",
      "Requirement already satisfied: charset-normalizer<4,>=2 in c:\\users\\shalm\\anaconda3\\lib\\site-packages (from requests>=2.31->jupyterlab-server<3,>=2.22.1->notebook>=5.3) (2.0.4)\n",
      "Requirement already satisfied: urllib3<3,>=1.21.1 in c:\\users\\shalm\\anaconda3\\lib\\site-packages (from requests>=2.31->jupyterlab-server<3,>=2.22.1->notebook>=5.3) (2.0.7)\n",
      "Requirement already satisfied: certifi>=2017.4.17 in c:\\users\\shalm\\anaconda3\\lib\\site-packages (from requests>=2.31->jupyterlab-server<3,>=2.22.1->notebook>=5.3) (2024.2.2)\n",
      "Requirement already satisfied: argon2-cffi-bindings in c:\\users\\shalm\\anaconda3\\lib\\site-packages (from argon2-cffi->jupyter-server<3,>=2.4.0->notebook>=5.3) (21.2.0)\n",
      "Requirement already satisfied: debugpy>=1.6.5 in c:\\users\\shalm\\anaconda3\\lib\\site-packages (from ipykernel->jupyterlab<4.1,>=4.0.2->notebook>=5.3) (1.6.7)\n",
      "Requirement already satisfied: nest-asyncio in c:\\users\\shalm\\anaconda3\\lib\\site-packages (from ipykernel->jupyterlab<4.1,>=4.0.2->notebook>=5.3) (1.6.0)\n",
      "Requirement already satisfied: psutil in c:\\users\\shalm\\anaconda3\\lib\\site-packages (from ipykernel->jupyterlab<4.1,>=4.0.2->notebook>=5.3) (5.9.0)\n",
      "Requirement already satisfied: executing in c:\\users\\shalm\\anaconda3\\lib\\site-packages (from stack-data->ipython>=6.1.0->ipywidgets>=7.5) (0.8.3)\n",
      "Requirement already satisfied: asttokens in c:\\users\\shalm\\anaconda3\\lib\\site-packages (from stack-data->ipython>=6.1.0->ipywidgets>=7.5) (2.0.5)\n",
      "Requirement already satisfied: pure-eval in c:\\users\\shalm\\anaconda3\\lib\\site-packages (from stack-data->ipython>=6.1.0->ipywidgets>=7.5) (0.2.2)\n",
      "Requirement already satisfied: six in c:\\users\\shalm\\anaconda3\\lib\\site-packages (from websocket-client->jupyter-server<3,>=2.4.0->notebook>=5.3) (1.16.0)\n",
      "Requirement already satisfied: webencodings in c:\\users\\shalm\\anaconda3\\lib\\site-packages (from bleach!=5.0.0->nbconvert>=6.4.4->jupyter-server<3,>=2.4.0->notebook>=5.3) (0.5.1)\n",
      "Requirement already satisfied: fqdn in c:\\users\\shalm\\anaconda3\\lib\\site-packages (from jsonschema[format-nongpl]>=4.18.0->jupyter-events>=0.6.0->jupyter-server<3,>=2.4.0->notebook>=5.3) (1.5.1)\n",
      "Requirement already satisfied: isoduration in c:\\users\\shalm\\anaconda3\\lib\\site-packages (from jsonschema[format-nongpl]>=4.18.0->jupyter-events>=0.6.0->jupyter-server<3,>=2.4.0->notebook>=5.3) (20.11.0)\n",
      "Requirement already satisfied: jsonpointer>1.13 in c:\\users\\shalm\\anaconda3\\lib\\site-packages (from jsonschema[format-nongpl]>=4.18.0->jupyter-events>=0.6.0->jupyter-server<3,>=2.4.0->notebook>=5.3) (2.1)\n",
      "Requirement already satisfied: uri-template in c:\\users\\shalm\\anaconda3\\lib\\site-packages (from jsonschema[format-nongpl]>=4.18.0->jupyter-events>=0.6.0->jupyter-server<3,>=2.4.0->notebook>=5.3) (1.3.0)\n",
      "Requirement already satisfied: webcolors>=1.11 in c:\\users\\shalm\\anaconda3\\lib\\site-packages (from jsonschema[format-nongpl]>=4.18.0->jupyter-events>=0.6.0->jupyter-server<3,>=2.4.0->notebook>=5.3) (1.13)\n",
      "Requirement already satisfied: cffi>=1.0.1 in c:\\users\\shalm\\anaconda3\\lib\\site-packages (from argon2-cffi-bindings->argon2-cffi->jupyter-server<3,>=2.4.0->notebook>=5.3) (1.16.0)\n",
      "Requirement already satisfied: soupsieve>1.2 in c:\\users\\shalm\\anaconda3\\lib\\site-packages (from beautifulsoup4->nbconvert>=6.4.4->jupyter-server<3,>=2.4.0->notebook>=5.3) (2.5)\n",
      "Requirement already satisfied: pycparser in c:\\users\\shalm\\anaconda3\\lib\\site-packages (from cffi>=1.0.1->argon2-cffi-bindings->argon2-cffi->jupyter-server<3,>=2.4.0->notebook>=5.3) (2.21)\n",
      "Requirement already satisfied: arrow>=0.15.0 in c:\\users\\shalm\\anaconda3\\lib\\site-packages (from isoduration->jsonschema[format-nongpl]>=4.18.0->jupyter-events>=0.6.0->jupyter-server<3,>=2.4.0->notebook>=5.3) (1.2.3)\n"
     ]
    }
   ],
   "source": [
    "! pip install \"notebook>=5.3\" \"ipywidgets>=7.5\""
   ]
  },
  {
   "cell_type": "code",
   "execution_count": 10,
   "id": "1a7cd21c-0c42-432e-99ed-51948596eea4",
   "metadata": {},
   "outputs": [
    {
     "name": "stdout",
     "output_type": "stream",
     "text": [
      "Collecting plotly==5.19.0\n",
      "  Downloading plotly-5.19.0-py3-none-any.whl.metadata (7.0 kB)\n",
      "Requirement already satisfied: tenacity>=6.2.0 in c:\\users\\shalm\\anaconda3\\lib\\site-packages (from plotly==5.19.0) (8.2.2)\n",
      "Requirement already satisfied: packaging in c:\\users\\shalm\\anaconda3\\lib\\site-packages (from plotly==5.19.0) (23.1)\n",
      "Downloading plotly-5.19.0-py3-none-any.whl (15.7 MB)\n",
      "   ---------------------------------------- 0.0/15.7 MB ? eta -:--:--\n",
      "   ---------------------------------------- 0.0/15.7 MB ? eta -:--:--\n",
      "   ---------------------------------------- 0.0/15.7 MB 435.7 kB/s eta 0:00:36\n",
      "   ---------------------------------------- 0.1/15.7 MB 762.6 kB/s eta 0:00:21\n",
      "    --------------------------------------- 0.3/15.7 MB 1.9 MB/s eta 0:00:09\n",
      "   - -------------------------------------- 0.5/15.7 MB 2.8 MB/s eta 0:00:06\n",
      "   - -------------------------------------- 0.8/15.7 MB 3.3 MB/s eta 0:00:05\n",
      "   -- ------------------------------------- 1.1/15.7 MB 3.7 MB/s eta 0:00:04\n",
      "   --- ------------------------------------ 1.3/15.7 MB 4.0 MB/s eta 0:00:04\n",
      "   ---- ----------------------------------- 1.6/15.7 MB 4.3 MB/s eta 0:00:04\n",
      "   ---- ----------------------------------- 1.9/15.7 MB 4.6 MB/s eta 0:00:04\n",
      "   ----- ---------------------------------- 2.2/15.7 MB 4.8 MB/s eta 0:00:03\n",
      "   ------ --------------------------------- 2.6/15.7 MB 5.0 MB/s eta 0:00:03\n",
      "   ------- -------------------------------- 2.8/15.7 MB 5.2 MB/s eta 0:00:03\n",
      "   -------- ------------------------------- 3.1/15.7 MB 5.3 MB/s eta 0:00:03\n",
      "   -------- ------------------------------- 3.5/15.7 MB 5.4 MB/s eta 0:00:03\n",
      "   --------- ------------------------------ 3.8/15.7 MB 5.4 MB/s eta 0:00:03\n",
      "   ---------- ----------------------------- 4.1/15.7 MB 5.6 MB/s eta 0:00:03\n",
      "   ----------- ---------------------------- 4.4/15.7 MB 5.6 MB/s eta 0:00:02\n",
      "   ------------ --------------------------- 4.7/15.7 MB 5.7 MB/s eta 0:00:02\n",
      "   ------------ --------------------------- 5.0/15.7 MB 5.7 MB/s eta 0:00:02\n",
      "   ------------- -------------------------- 5.4/15.7 MB 5.8 MB/s eta 0:00:02\n",
      "   -------------- ------------------------- 5.7/15.7 MB 5.9 MB/s eta 0:00:02\n",
      "   --------------- ------------------------ 6.0/15.7 MB 5.9 MB/s eta 0:00:02\n",
      "   ---------------- ----------------------- 6.3/15.7 MB 5.9 MB/s eta 0:00:02\n",
      "   ---------------- ----------------------- 6.6/15.7 MB 6.0 MB/s eta 0:00:02\n",
      "   ----------------- ---------------------- 7.0/15.7 MB 5.9 MB/s eta 0:00:02\n",
      "   ------------------ --------------------- 7.3/15.7 MB 6.0 MB/s eta 0:00:02\n",
      "   ------------------- -------------------- 7.6/15.7 MB 6.1 MB/s eta 0:00:02\n",
      "   -------------------- ------------------- 7.9/15.7 MB 6.1 MB/s eta 0:00:02\n",
      "   -------------------- ------------------- 8.2/15.7 MB 6.1 MB/s eta 0:00:02\n",
      "   --------------------- ------------------ 8.5/15.7 MB 6.1 MB/s eta 0:00:02\n",
      "   ---------------------- ----------------- 8.9/15.7 MB 6.2 MB/s eta 0:00:02\n",
      "   ----------------------- ---------------- 9.2/15.7 MB 6.2 MB/s eta 0:00:02\n",
      "   ------------------------ --------------- 9.5/15.7 MB 6.2 MB/s eta 0:00:01\n",
      "   ------------------------- -------------- 9.8/15.7 MB 6.2 MB/s eta 0:00:01\n",
      "   ------------------------- -------------- 10.1/15.7 MB 6.2 MB/s eta 0:00:01\n",
      "   -------------------------- ------------- 10.4/15.7 MB 6.6 MB/s eta 0:00:01\n",
      "   --------------------------- ------------ 10.8/15.7 MB 6.6 MB/s eta 0:00:01\n",
      "   ---------------------------- ----------- 11.1/15.7 MB 6.7 MB/s eta 0:00:01\n",
      "   ----------------------------- ---------- 11.4/15.7 MB 6.7 MB/s eta 0:00:01\n",
      "   ----------------------------- ---------- 11.7/15.7 MB 6.7 MB/s eta 0:00:01\n",
      "   ------------------------------ --------- 12.0/15.7 MB 6.7 MB/s eta 0:00:01\n",
      "   ------------------------------- -------- 12.4/15.7 MB 6.7 MB/s eta 0:00:01\n",
      "   -------------------------------- ------- 12.7/15.7 MB 6.7 MB/s eta 0:00:01\n",
      "   --------------------------------- ------ 13.0/15.7 MB 6.7 MB/s eta 0:00:01\n",
      "   --------------------------------- ------ 13.3/15.7 MB 6.8 MB/s eta 0:00:01\n",
      "   ---------------------------------- ----- 13.6/15.7 MB 6.7 MB/s eta 0:00:01\n",
      "   ----------------------------------- ---- 13.9/15.7 MB 6.8 MB/s eta 0:00:01\n",
      "   ------------------------------------ --- 14.2/15.7 MB 6.8 MB/s eta 0:00:01\n",
      "   ------------------------------------- -- 14.6/15.7 MB 6.8 MB/s eta 0:00:01\n",
      "   ------------------------------------- -- 14.9/15.7 MB 6.8 MB/s eta 0:00:01\n",
      "   -------------------------------------- - 15.2/15.7 MB 6.8 MB/s eta 0:00:01\n",
      "   ---------------------------------------  15.5/15.7 MB 6.8 MB/s eta 0:00:01\n",
      "   ---------------------------------------  15.7/15.7 MB 6.8 MB/s eta 0:00:01\n",
      "   ---------------------------------------- 15.7/15.7 MB 6.5 MB/s eta 0:00:00\n",
      "Installing collected packages: plotly\n",
      "  Attempting uninstall: plotly\n",
      "    Found existing installation: plotly 5.9.0\n",
      "    Uninstalling plotly-5.9.0:\n",
      "      Successfully uninstalled plotly-5.9.0\n",
      "Successfully installed plotly-5.19.0\n"
     ]
    }
   ],
   "source": [
    "!pip install plotly==5.19.0"
   ]
  },
  {
   "cell_type": "code",
   "execution_count": 3,
   "id": "6f327f17-89e2-4917-9454-e87c52500311",
   "metadata": {},
   "outputs": [],
   "source": [
    "from pandas_visual_analysis import VisualAnalysis"
   ]
  },
  {
   "cell_type": "code",
   "execution_count": 12,
   "id": "f2e5a6e4-39f3-4b95-992e-b140ed676996",
   "metadata": {},
   "outputs": [
    {
     "data": {
      "text/plain": [
       "<matplotlib.collections.PathCollection at 0x26a00033ed0>"
      ]
     },
     "execution_count": 12,
     "metadata": {},
     "output_type": "execute_result"
    },
    {
     "data": {
      "image/png": "[encoded data removed]",
      "text/plain": [
       "<Figure size 640x480 with 1 Axes>"
      ]
     },
     "metadata": {},
     "output_type": "display_data"
    }
   ],
   "source": [
    "import matplotlib.pyplot as plt\n",
    "%matplotlib inline\n",
    "plt.scatter(df['sepal_length'],df['petal_width'])"
   ]
  },
  {
   "cell_type": "code",
   "execution_count": 13,
   "id": "c2b2f770-2e9e-4843-bdfc-007206417026",
   "metadata": {},
   "outputs": [
    {
     "data": {
      "application/vnd.jupyter.widget-view+json": {
       "model_id": "6cecd029bd8148888a1bfe870a838a9d",
       "version_major": 2,
       "version_minor": 0
      },
      "text/plain": [
       "VBox(children=(ToggleButtons(_dom_classes=('layout-99c3c791dfa9435190e70f17bb3352af',), description='Selection…"
      ]
     },
     "metadata": {},
     "output_type": "display_data"
    }
   ],
   "source": [
    "VisualAnalysis(df)"
   ]
  },
  {
   "cell_type": "code",
   "execution_count": 14,
   "id": "90655fa7-2d72-4bbb-a78e-0575f464dc22",
   "metadata": {},
   "outputs": [
    {
     "data": {
      "text/html": [
       "<div>\n",
       "<style scoped>\n",
       "    .dataframe tbody tr th:only-of-type {\n",
       "        vertical-align: middle;\n",
       "    }\n",
       "\n",
       "    .dataframe tbody tr th {\n",
       "        vertical-align: top;\n",
       "    }\n",
       "\n",
       "    .dataframe thead th {\n",
       "        text-align: right;\n",
       "    }\n",
       "</style>\n",
       "<table border=\"1\" class=\"dataframe\">\n",
       "  <thead>\n",
       "    <tr style=\"text-align: right;\">\n",
       "      <th></th>\n",
       "      <th>sepal_length</th>\n",
       "      <th>sepal_width</th>\n",
       "      <th>petal_length</th>\n",
       "      <th>petal_width</th>\n",
       "    </tr>\n",
       "  </thead>\n",
       "  <tbody>\n",
       "    <tr>\n",
       "      <th>count</th>\n",
       "      <td>150.000000</td>\n",
       "      <td>150.000000</td>\n",
       "      <td>150.000000</td>\n",
       "      <td>150.000000</td>\n",
       "    </tr>\n",
       "    <tr>\n",
       "      <th>mean</th>\n",
       "      <td>5.843333</td>\n",
       "      <td>3.057333</td>\n",
       "      <td>3.758000</td>\n",
       "      <td>1.199333</td>\n",
       "    </tr>\n",
       "    <tr>\n",
       "      <th>std</th>\n",
       "      <td>0.828066</td>\n",
       "      <td>0.435866</td>\n",
       "      <td>1.765298</td>\n",
       "      <td>0.762238</td>\n",
       "    </tr>\n",
       "    <tr>\n",
       "      <th>min</th>\n",
       "      <td>4.300000</td>\n",
       "      <td>2.000000</td>\n",
       "      <td>1.000000</td>\n",
       "      <td>0.100000</td>\n",
       "    </tr>\n",
       "    <tr>\n",
       "      <th>25%</th>\n",
       "      <td>5.100000</td>\n",
       "      <td>2.800000</td>\n",
       "      <td>1.600000</td>\n",
       "      <td>0.300000</td>\n",
       "    </tr>\n",
       "    <tr>\n",
       "      <th>50%</th>\n",
       "      <td>5.800000</td>\n",
       "      <td>3.000000</td>\n",
       "      <td>4.350000</td>\n",
       "      <td>1.300000</td>\n",
       "    </tr>\n",
       "    <tr>\n",
       "      <th>75%</th>\n",
       "      <td>6.400000</td>\n",
       "      <td>3.300000</td>\n",
       "      <td>5.100000</td>\n",
       "      <td>1.800000</td>\n",
       "    </tr>\n",
       "    <tr>\n",
       "      <th>max</th>\n",
       "      <td>7.900000</td>\n",
       "      <td>4.400000</td>\n",
       "      <td>6.900000</td>\n",
       "      <td>2.500000</td>\n",
       "    </tr>\n",
       "  </tbody>\n",
       "</table>\n",
       "</div>"
      ],
      "text/plain": [
       "       sepal_length  sepal_width  petal_length  petal_width\n",
       "count    150.000000   150.000000    150.000000   150.000000\n",
       "mean       5.843333     3.057333      3.758000     1.199333\n",
       "std        0.828066     0.435866      1.765298     0.762238\n",
       "min        4.300000     2.000000      1.000000     0.100000\n",
       "25%        5.100000     2.800000      1.600000     0.300000\n",
       "50%        5.800000     3.000000      4.350000     1.300000\n",
       "75%        6.400000     3.300000      5.100000     1.800000\n",
       "max        7.900000     4.400000      6.900000     2.500000"
      ]
     },
     "execution_count": 14,
     "metadata": {},
     "output_type": "execute_result"
    }
   ],
   "source": [
    "df.describe() ## shows standard from above plots"
   ]
  },
  {
   "cell_type": "code",
   "execution_count": null,
   "id": "7f30a243-b15a-411b-897b-566cb8b1084b",
   "metadata": {},
   "outputs": [],
   "source": [
    "# Substractive : "
   ]
  }
 ],
 "metadata": {
  "kernelspec": {
   "display_name": "Python 3 (ipykernel)",
   "language": "python",
   "name": "python3"
  },
  "language_info": {
   "codemirror_mode": {
    "name": "ipython",
    "version": 3
   },
   "file_extension": ".py",
   "mimetype": "text/x-python",
   "name": "python",
   "nbconvert_exporter": "python",
   "pygments_lexer": "ipython3",
   "version": "3.11.7"
  }
 },
 "nbformat": 4,
 "nbformat_minor": 5
}
