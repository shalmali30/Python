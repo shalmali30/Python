{
 "cells": [
  {
   "cell_type": "markdown",
   "id": "f429069f-eff4-4fbc-989d-8f16b3239b27",
   "metadata": {},
   "source": [
    "# Functions in Python \n",
    "\n",
    "1. Why Functions  - for code reusability\n",
    "2. Function Fefination\n",
    "3. Positional and keyword arguments in Functions"
   ]
  },
  {
   "cell_type": "code",
   "execution_count": 1,
   "id": "308f4a9d-08a9-46a4-bb4f-2a4d33a55a1a",
   "metadata": {},
   "outputs": [
    {
     "name": "stdout",
     "output_type": "stream",
     "text": [
      "The number is even\n"
     ]
    }
   ],
   "source": [
    "num=24\n",
    "if num%2==0:\n",
    "    print('The number is even')\n",
    "else:\n",
    "     print('The number is odd')"
   ]
  },
  {
   "cell_type": "code",
   "execution_count": 5,
   "id": "63a06fd3-3d9b-4ab0-bc82-df8a75c20b3f",
   "metadata": {},
   "outputs": [],
   "source": [
    "def even_odd(num):  #defining a function\n",
    "    if num%2==0:\n",
    "        print('The number is even')\n",
    "    else:\n",
    "        print('The number is odd')"
   ]
  },
  {
   "cell_type": "code",
   "execution_count": 6,
   "id": "22d711ac-49e4-47f1-85b1-537c49cb89b1",
   "metadata": {},
   "outputs": [
    {
     "name": "stdout",
     "output_type": "stream",
     "text": [
      "The number is odd\n"
     ]
    }
   ],
   "source": [
    "even_odd(23) # calling that function"
   ]
  },
  {
   "cell_type": "code",
   "execution_count": 7,
   "id": "af38c190-f8e2-4d01-af54-0fca41bf1328",
   "metadata": {},
   "outputs": [],
   "source": [
    "def hello_word():\n",
    "    print('Hi')"
   ]
  },
  {
   "cell_type": "code",
   "execution_count": 8,
   "id": "e76e3ecd-f3d6-424f-957a-0adae37b4d92",
   "metadata": {},
   "outputs": [
    {
     "name": "stdout",
     "output_type": "stream",
     "text": [
      "Hi\n"
     ]
    }
   ],
   "source": [
    "hello_word()"
   ]
  },
  {
   "cell_type": "code",
   "execution_count": 9,
   "id": "39ad1fc7-1b6d-4da2-92c3-f8c6f801d075",
   "metadata": {},
   "outputs": [
    {
     "name": "stdout",
     "output_type": "stream",
     "text": [
      "Hi\n"
     ]
    }
   ],
   "source": [
    "var= hello_word()   #storing in varibale\n",
    "var"
   ]
  },
  {
   "cell_type": "code",
   "execution_count": 10,
   "id": "65d06b7a-a6f0-429d-83ad-81ec45fd7304",
   "metadata": {},
   "outputs": [
    {
     "name": "stdout",
     "output_type": "stream",
     "text": [
      "None\n"
     ]
    }
   ],
   "source": [
    "print(var)  # when stored in variable, Print did not return anything"
   ]
  },
  {
   "cell_type": "code",
   "execution_count": 11,
   "id": "ab03cc7e-b936-4ccc-aa56-657dbaa50c7f",
   "metadata": {},
   "outputs": [],
   "source": [
    "def hello_word():     # using retirn , so that print can return the value from the function \n",
    "    return \"HiII\"    # Returns something back when function is executed"
   ]
  },
  {
   "cell_type": "code",
   "execution_count": 12,
   "id": "b377387a-2bb3-4db7-a68b-9dac69c970b8",
   "metadata": {},
   "outputs": [
    {
     "name": "stdout",
     "output_type": "stream",
     "text": [
      "HiII\n"
     ]
    }
   ],
   "source": [
    "var= hello_word()   \n",
    "var\n",
    "print(var)"
   ]
  },
  {
   "cell_type": "code",
   "execution_count": 13,
   "id": "66536f36-13ab-49dd-a362-8db5ed83ddce",
   "metadata": {},
   "outputs": [],
   "source": [
    "def addition (num1, num2):\n",
    "    return num1+num2 \n"
   ]
  },
  {
   "cell_type": "code",
   "execution_count": 14,
   "id": "0f3d9036-112d-46c7-8ada-eeb486faefd0",
   "metadata": {},
   "outputs": [
    {
     "data": {
      "text/plain": [
       "5"
      ]
     },
     "execution_count": 14,
     "metadata": {},
     "output_type": "execute_result"
    }
   ],
   "source": [
    "var1=addition(2,3)\n",
    "var1"
   ]
  },
  {
   "cell_type": "code",
   "execution_count": 18,
   "id": "4e9e570c-d539-4b23-8526-26265629a0bf",
   "metadata": {},
   "outputs": [],
   "source": [
    "def hello(Name, age=30):\n",
    "    print(\"My name is {} and my age is {}\".format(Name,age))"
   ]
  },
  {
   "cell_type": "code",
   "execution_count": 19,
   "id": "612e10a9-cc10-4a18-90d8-8539ee0d32cc",
   "metadata": {},
   "outputs": [
    {
     "name": "stdout",
     "output_type": "stream",
     "text": [
      "My name is shalmali and my age is 30\n"
     ]
    }
   ],
   "source": [
    "hello('shalmali')"
   ]
  },
  {
   "cell_type": "code",
   "execution_count": 20,
   "id": "7b979629-25da-442d-af3a-def31ea0d360",
   "metadata": {},
   "outputs": [
    {
     "ename": "TypeError",
     "evalue": "hello() missing 1 required positional argument: 'Name'",
     "output_type": "error",
     "traceback": [
      "\u001b[1;31m---------------------------------------------------------------------------\u001b[0m",
      "\u001b[1;31mTypeError\u001b[0m                                 Traceback (most recent call last)",
      "Cell \u001b[1;32mIn[20], line 1\u001b[0m\n\u001b[1;32m----> 1\u001b[0m hello()\n",
      "\u001b[1;31mTypeError\u001b[0m: hello() missing 1 required positional argument: 'Name'"
     ]
    }
   ],
   "source": [
    "hello()   # if we do not submit any required parameter. Above name is positional and Age is keyword argument"
   ]
  },
  {
   "cell_type": "code",
   "execution_count": 21,
   "id": "d2615dbe-1ef2-4c66-b864-68cf02635674",
   "metadata": {},
   "outputs": [],
   "source": [
    "def hello(*args,**kwargs):\n",
    "    print(args)\n",
    "    print(kwargs)"
   ]
  },
  {
   "cell_type": "code",
   "execution_count": 22,
   "id": "d37003f7-ddba-42d9-be89-5cce67746463",
   "metadata": {},
   "outputs": [
    {
     "name": "stdout",
     "output_type": "stream",
     "text": [
      "('shalmali', 'Limbkar')\n",
      "{'age': 28, 'dob': 1993}\n"
     ]
    }
   ],
   "source": [
    "hello(\"shalmali\",\"Limbkar\",age=28,dob=1993)"
   ]
  },
  {
   "cell_type": "code",
   "execution_count": 23,
   "id": "6ed969c8-2532-424a-be1a-0b31dde9d5e9",
   "metadata": {},
   "outputs": [],
   "source": [
    "lst= ['shalmali', 'Limbkar']    #another way to define positional and keyword arguments\n",
    "dict_args={'age': 28, 'dob': 1993}"
   ]
  },
  {
   "cell_type": "code",
   "execution_count": 24,
   "id": "0d6d8628-4141-4532-a147-c963e66446d9",
   "metadata": {},
   "outputs": [
    {
     "name": "stdout",
     "output_type": "stream",
     "text": [
      "('shalmali', 'Limbkar')\n",
      "{'age': 28, 'dob': 1993}\n"
     ]
    }
   ],
   "source": [
    "hello(*lst,**dict_args)"
   ]
  },
  {
   "cell_type": "markdown",
   "id": "6f9e2d4c-4530-4d04-8979-62781b17d0b9",
   "metadata": {},
   "source": [
    "# returnig 2 different values "
   ]
  },
  {
   "cell_type": "code",
   "execution_count": 25,
   "id": "7eabb6e8-4b62-4bb3-bfae-2d36ec827121",
   "metadata": {},
   "outputs": [],
   "source": [
    "lst =[1,2,3,4,5,6,7,8] "
   ]
  },
  {
   "cell_type": "code",
   "execution_count": 29,
   "id": "83be0336-5598-4ede-af59-849dd90af36d",
   "metadata": {},
   "outputs": [],
   "source": [
    "def evenoodsum(lst):\n",
    "    even_sum=0\n",
    "    odd_sum=0\n",
    "    for i in lst:\n",
    "        if i%2==0:\n",
    "            even_sum=even_sum+i\n",
    "        else:\n",
    "            odd_sum=odd_sum+i\n",
    "    return even_sum,odd_sum"
   ]
  },
  {
   "cell_type": "code",
   "execution_count": 30,
   "id": "a8a4dd68-2c56-4313-ac12-751c558b4eeb",
   "metadata": {},
   "outputs": [
    {
     "data": {
      "text/plain": [
       "(20, 16)"
      ]
     },
     "execution_count": 30,
     "metadata": {},
     "output_type": "execute_result"
    }
   ],
   "source": [
    "evenoodsum(lst)"
   ]
  },
  {
   "cell_type": "markdown",
   "id": "4c40f15e-0a28-48c4-a95f-21ee7c79a2f6",
   "metadata": {},
   "source": [
    "# Lamba Functions \n",
    "\n",
    "These are also called as anonymus function or function with no name \n",
    "These works faster than usual functions"
   ]
  },
  {
   "cell_type": "code",
   "execution_count": 32,
   "id": "2e36a3be-c8cf-4bbe-b770-605deb9cdfbc",
   "metadata": {},
   "outputs": [],
   "source": [
    "def addition (a,b):   #This is traditional way function definations\n",
    "    return a+b"
   ]
  },
  {
   "cell_type": "code",
   "execution_count": 33,
   "id": "0982dbc0-dcd6-4aed-a01d-64401cf2f175",
   "metadata": {},
   "outputs": [
    {
     "data": {
      "text/plain": [
       "10"
      ]
     },
     "execution_count": 33,
     "metadata": {},
     "output_type": "execute_result"
    }
   ],
   "source": [
    "addition(4,6)"
   ]
  },
  {
   "cell_type": "markdown",
   "id": "e4642f86-7aea-4a46-89ba-af1d1e94df95",
   "metadata": {},
   "source": [
    " when you have just one expression in function defination then you can convert it into the lambda function "
   ]
  },
  {
   "cell_type": "code",
   "execution_count": 35,
   "id": "dfa80a37-36ab-4666-ae2e-d9e5dd2297dc",
   "metadata": {},
   "outputs": [],
   "source": [
    "add_var=lambda a,b:a+b"
   ]
  },
  {
   "cell_type": "code",
   "execution_count": 36,
   "id": "508e2fa7-5657-4a4a-a395-f104498b473c",
   "metadata": {},
   "outputs": [
    {
     "data": {
      "text/plain": [
       "5"
      ]
     },
     "execution_count": 36,
     "metadata": {},
     "output_type": "execute_result"
    }
   ],
   "source": [
    "add_var(3,2)"
   ]
  },
  {
   "cell_type": "code",
   "execution_count": 38,
   "id": "a3292ccf-d878-41f2-ad81-b340d3246bd3",
   "metadata": {},
   "outputs": [
    {
     "data": {
      "text/plain": [
       "True"
      ]
     },
     "execution_count": 38,
     "metadata": {},
     "output_type": "execute_result"
    }
   ],
   "source": [
    "evenornot=lambda a:a%2==0   #return one parameter\n",
    "evenornot(0)"
   ]
  },
  {
   "cell_type": "code",
   "execution_count": 40,
   "id": "0052f393-7e1e-4197-9c9b-d59daeb86e62",
   "metadata": {},
   "outputs": [
    {
     "data": {
      "text/plain": [
       "9"
      ]
     },
     "execution_count": 40,
     "metadata": {},
     "output_type": "execute_result"
    }
   ],
   "source": [
    "# 3 parameter function \n",
    "\n",
    "def add(a,b,c):\n",
    "    return a+b+c\n",
    "\n",
    "add(2,3,4)"
   ]
  },
  {
   "cell_type": "markdown",
   "id": "2961022e-668e-4724-9cac-d9e2c53cccaa",
   "metadata": {},
   "source": [
    "converting above function into lambda"
   ]
  },
  {
   "cell_type": "code",
   "execution_count": 41,
   "id": "e8423622-c83a-4f3c-8128-322364037c11",
   "metadata": {},
   "outputs": [
    {
     "data": {
      "text/plain": [
       "9"
      ]
     },
     "execution_count": 41,
     "metadata": {},
     "output_type": "execute_result"
    }
   ],
   "source": [
    "addition= lambda a,b,c: a+b+c\n",
    "addition(2,3,4)"
   ]
  },
  {
   "cell_type": "markdown",
   "id": "aab71b26-2164-4643-8532-2fee5d5fddd0",
   "metadata": {},
   "source": [
    "# Map Function\n",
    "\n",
    "function applies a given function to each item of an iterable (such as lists) and returns an iterator of the results."
   ]
  },
  {
   "cell_type": "code",
   "execution_count": 43,
   "id": "64a2c26a-54e9-4418-9279-c28d23a032dd",
   "metadata": {},
   "outputs": [],
   "source": [
    "def even_or_odd (num):         #usual way\n",
    "    if num%2==0:\n",
    "        return True   #  or  return \"Even\"\n",
    "    else:\n",
    "        return False   #Return \"Odd\"\n",
    "    "
   ]
  },
  {
   "cell_type": "code",
   "execution_count": 44,
   "id": "07e6375c-3058-4eee-af2c-52a18a6055bb",
   "metadata": {},
   "outputs": [
    {
     "data": {
      "text/plain": [
       "False"
      ]
     },
     "execution_count": 44,
     "metadata": {},
     "output_type": "execute_result"
    }
   ],
   "source": [
    "even_or_odd(45)"
   ]
  },
  {
   "cell_type": "code",
   "execution_count": 47,
   "id": "20e26e9b-b50b-4363-9d8c-0b4d0778e05c",
   "metadata": {},
   "outputs": [
    {
     "data": {
      "text/plain": [
       "'\\n1.Iterate thr all the elements \\n2. Use Map function \\n'"
      ]
     },
     "execution_count": 47,
     "metadata": {},
     "output_type": "execute_result"
    }
   ],
   "source": [
    "lst=[34,32,12,56,78,34,67,10,21]   # now I have whole list to find even or odds\n",
    "\n",
    "'''\n",
    "two ways to handle it:\n",
    "\n",
    "1.Iterate thr all the elements \n",
    "2. Use Map function \n",
    "'''"
   ]
  },
  {
   "cell_type": "code",
   "execution_count": 48,
   "id": "da1c7efb-18e7-480a-bd21-dcd629e87215",
   "metadata": {},
   "outputs": [
    {
     "data": {
      "text/plain": [
       "<map at 0x23ca2ccbfa0>"
      ]
     },
     "execution_count": 48,
     "metadata": {},
     "output_type": "execute_result"
    }
   ],
   "source": [
    "map(even_or_odd,lst)    #lst is iterable "
   ]
  },
  {
   "cell_type": "markdown",
   "id": "cf68e71d-aabd-4b70-989b-d81c994e4617",
   "metadata": {},
   "source": [
    "This uses lazy loading technique. Memory is not instansiated yet. In order to do so, we convert above map function to list"
   ]
  },
  {
   "cell_type": "code",
   "execution_count": 49,
   "id": "cb442b28-6923-4de9-bed1-7491e2bd2f68",
   "metadata": {},
   "outputs": [
    {
     "data": {
      "text/plain": [
       "[True, True, True, True, True, True, False, True, False]"
      ]
     },
     "execution_count": 49,
     "metadata": {},
     "output_type": "execute_result"
    }
   ],
   "source": [
    "list(map(even_or_odd,lst))"
   ]
  },
  {
   "cell_type": "markdown",
   "id": "3a14a116-021e-4b74-9879-353d527929a0",
   "metadata": {},
   "source": [
    "# Filter Function in Python\n",
    "\n",
    "function is used to filter elements from an iterable (such as lists) based on a specified condition. It returns an iterator containing the elements for which the condition is true."
   ]
  },
  {
   "cell_type": "code",
   "execution_count": 65,
   "id": "d99b1d51-1bda-4c87-939f-678012836d91",
   "metadata": {},
   "outputs": [],
   "source": [
    "def even_number (num):\n",
    "    if num%2==0:\n",
    "         return True\n",
    "    "
   ]
  },
  {
   "cell_type": "code",
   "execution_count": 58,
   "id": "e74051b9-8da2-4369-afce-cc0598d16e7a",
   "metadata": {},
   "outputs": [],
   "source": [
    "lst=[34,32,12,56,78,34,67,10,21] "
   ]
  },
  {
   "cell_type": "code",
   "execution_count": 61,
   "id": "ad7b1103-d5b9-4f22-8593-3585db30f9b1",
   "metadata": {},
   "outputs": [
    {
     "data": {
      "text/plain": [
       "[34, 32, 12, 56, 78, 34, 10]"
      ]
     },
     "execution_count": 61,
     "metadata": {},
     "output_type": "execute_result"
    }
   ],
   "source": [
    "list(filter(even_number,lst))"
   ]
  },
  {
   "cell_type": "code",
   "execution_count": 64,
   "id": "e479b9fd-9926-403c-ab7b-5f74c4274540",
   "metadata": {},
   "outputs": [
    {
     "data": {
      "text/plain": [
       "[34, 32, 12, 56, 78, 34, 10]"
      ]
     },
     "execution_count": 64,
     "metadata": {},
     "output_type": "execute_result"
    }
   ],
   "source": [
    "list(filter(lambda num:num%2==0,lst))"
   ]
  },
  {
   "cell_type": "markdown",
   "id": "dcffbff7-570d-4eca-8552-1ac382535b90",
   "metadata": {},
   "source": [
    "# Reduce function \n",
    "\n",
    "the reduce() function in Python is used to apply a function (usually, but not necessarily, a binary function) to a sequence of elements, one at a time, from left to right, to reduce the sequence to a single value. This function is available in the functools module."
   ]
  },
  {
   "cell_type": "code",
   "execution_count": 66,
   "id": "6e0c6ab4-776e-4915-a901-5ccaed166fbc",
   "metadata": {},
   "outputs": [
    {
     "name": "stdout",
     "output_type": "stream",
     "text": [
      "Sum of numbers: 15\n"
     ]
    }
   ],
   "source": [
    "from functools import reduce\n",
    "\n",
    "# Define a binary function to be applied\n",
    "def add(x, y):\n",
    "    return x + y\n",
    "\n",
    "# Create a list of numbers\n",
    "numbers = [1, 2, 3, 4, 5]\n",
    "\n",
    "# Use reduce() to calculate the sum of the numbers\n",
    "result = reduce(add, numbers)\n",
    "\n",
    "print(\"Sum of numbers:\", result)"
   ]
  },
  {
   "cell_type": "markdown",
   "id": "eb2837b9-5c58-465c-a9c8-d0ee8a9ba796",
   "metadata": {},
   "source": [
    "# list comprehension \n",
    "\n",
    "List comprehension is a concise and powerful way to create lists in Python. It allows you to generate a new list by applying an expression to each item in an existing iterable (such as a list, tuple, or range) and optionally filter the items based on a condition.\n",
    "\n"
   ]
  },
  {
   "cell_type": "code",
   "execution_count": 67,
   "id": "41bebd38-47fd-4b16-8dca-f9d93366aa50",
   "metadata": {},
   "outputs": [],
   "source": [
    "# The basic syntax of list comprehension is:\n",
    "# [expression for item in iterable if condition] "
   ]
  },
  {
   "cell_type": "code",
   "execution_count": 68,
   "id": "a6cab23c-0c90-4aa8-a11a-aab06f33ed52",
   "metadata": {},
   "outputs": [
    {
     "name": "stdout",
     "output_type": "stream",
     "text": [
      "[0, 1, 4, 9, 16, 25, 36, 49, 64, 81]\n"
     ]
    }
   ],
   "source": [
    "# Create a list of squares of numbers from 0 to 9\n",
    "squares = [x**2 for x in range(10)]\n",
    "print(squares)  # Output: [0, 1, 4, 9, 16, 25, 36, 49, 64, 81]"
   ]
  },
  {
   "cell_type": "code",
   "execution_count": 71,
   "id": "431184c1-3a74-48a6-88e6-3ef03e677d67",
   "metadata": {},
   "outputs": [],
   "source": [
    "\n",
    "lst1=[]\n",
    "def lst_square(lst):\n",
    "    for i in lst:\n",
    "        lst1.append(i*i)\n",
    "    return lst1\n",
    "        "
   ]
  },
  {
   "cell_type": "code",
   "execution_count": 72,
   "id": "11fae261-d496-4c74-b9ba-96af9757a915",
   "metadata": {},
   "outputs": [
    {
     "data": {
      "text/plain": [
       "[1, 4, 9, 16, 25]"
      ]
     },
     "execution_count": 72,
     "metadata": {},
     "output_type": "execute_result"
    }
   ],
   "source": [
    "lst_square([1,2,3,4,5])"
   ]
  },
  {
   "cell_type": "markdown",
   "id": "e82fcc9f-1dde-4d7b-bada-7b460c6ed8a3",
   "metadata": {},
   "source": [
    "# String formatting in Python "
   ]
  },
  {
   "cell_type": "code",
   "execution_count": 73,
   "id": "95585428-1437-4b40-9073-ed0095351cc0",
   "metadata": {},
   "outputs": [
    {
     "name": "stdout",
     "output_type": "stream",
     "text": [
      "hi \n"
     ]
    }
   ],
   "source": [
    "print(\"hi \")"
   ]
  },
  {
   "cell_type": "code",
   "execution_count": 74,
   "id": "bf5c7e62-6d3e-4980-abd8-7e496b606590",
   "metadata": {},
   "outputs": [
    {
     "data": {
      "text/plain": [
       "'Hello'"
      ]
     },
     "execution_count": 74,
     "metadata": {},
     "output_type": "execute_result"
    }
   ],
   "source": [
    "str1=\"Hello\"\n",
    "str1"
   ]
  },
  {
   "cell_type": "code",
   "execution_count": 75,
   "id": "8e1059ac-1754-44ac-8501-0206dc8b3496",
   "metadata": {},
   "outputs": [],
   "source": [
    "def greetings(name):\n",
    "    return \"Hello {}, welcome to the community\".format(name)"
   ]
  },
  {
   "cell_type": "code",
   "execution_count": 76,
   "id": "d2fd0677-1139-42da-a57c-ae450f4f0152",
   "metadata": {},
   "outputs": [
    {
     "data": {
      "text/plain": [
       "'Hello shal, welcome to the community'"
      ]
     },
     "execution_count": 76,
     "metadata": {},
     "output_type": "execute_result"
    }
   ],
   "source": [
    "greetings('shal')"
   ]
  },
  {
   "cell_type": "code",
   "execution_count": 79,
   "id": "54e99a12-5775-456c-8826-44544cee1ccd",
   "metadata": {},
   "outputs": [],
   "source": [
    "def Welcome_email(name,surname):\n",
    "    return \"Hello {} {}, welcome to the community\".format(name,surname)"
   ]
  },
  {
   "cell_type": "code",
   "execution_count": 80,
   "id": "efdf5b4a-98a6-4d64-946e-7b27e2cfe152",
   "metadata": {},
   "outputs": [
    {
     "data": {
      "text/plain": [
       "'Hello shalmali limbkar, welcome to the community'"
      ]
     },
     "execution_count": 80,
     "metadata": {},
     "output_type": "execute_result"
    }
   ],
   "source": [
    "Welcome_email('shalmali','limbkar')"
   ]
  },
  {
   "cell_type": "code",
   "execution_count": 90,
   "id": "d5372f26-ff7d-47e9-b4db-89bad0a27571",
   "metadata": {},
   "outputs": [],
   "source": [
    "def Welcome_email1(name,surname):   #adding variables in the return statement will prevent misplacement \n",
    "    return \"Hello {name} {surname}, welcome to the community\".format(name=name,surname=surname)"
   ]
  },
  {
   "cell_type": "code",
   "execution_count": 91,
   "id": "65e5b7c8-cdea-4447-b306-459acfd74e10",
   "metadata": {},
   "outputs": [
    {
     "data": {
      "text/plain": [
       "'Hello limbkar Shalmali, welcome to the community'"
      ]
     },
     "execution_count": 91,
     "metadata": {},
     "output_type": "execute_result"
    }
   ],
   "source": [
    "Welcome_email1('limbkar','Shalmali')  #the ordering is changed "
   ]
  },
  {
   "cell_type": "markdown",
   "id": "2dbdfdc1-3580-4ea0-80df-c2d190b35747",
   "metadata": {},
   "source": [
    "# Python iterables vs iterators"
   ]
  },
  {
   "cell_type": "code",
   "execution_count": 92,
   "id": "6c40eb64-2c0d-48a4-871a-648cb1d7695a",
   "metadata": {},
   "outputs": [
    {
     "name": "stdout",
     "output_type": "stream",
     "text": [
      "1\n",
      "2\n",
      "3\n",
      "4\n",
      "5\n"
     ]
    }
   ],
   "source": [
    "lst=[1,2,3,4,5]   # list is iterable\n",
    "for i in lst:    \n",
    "    print(i)"
   ]
  },
  {
   "cell_type": "code",
   "execution_count": 94,
   "id": "a5102e13-d4f5-4f0a-a823-a1c84c2e7f34",
   "metadata": {},
   "outputs": [
    {
     "data": {
      "text/plain": [
       "<list_iterator at 0x23ca2cd3640>"
      ]
     },
     "execution_count": 94,
     "metadata": {},
     "output_type": "execute_result"
    }
   ],
   "source": [
    "iter(lst)    # converts list into iterator"
   ]
  },
  {
   "cell_type": "markdown",
   "id": "a16b404b-2502-44ce-8aea-609ed266a1c1",
   "metadata": {},
   "source": [
    "All the values from list will not be initialized(initialize memory) until we call the inbuilt function 'next'. this will not take memory until then"
   ]
  },
  {
   "cell_type": "code",
   "execution_count": 104,
   "id": "4aac680a-d3bc-4a12-9553-25eb21f9016c",
   "metadata": {},
   "outputs": [
    {
     "data": {
      "text/plain": [
       "<list_iterator at 0x23ca2d03d60>"
      ]
     },
     "execution_count": 104,
     "metadata": {},
     "output_type": "execute_result"
    }
   ],
   "source": [
    "list1= iter(lst)\n",
    "list1              #we do not see the elements from the list1 "
   ]
  },
  {
   "cell_type": "code",
   "execution_count": 105,
   "id": "f5ff7222-6439-4972-973e-b08cb2ea7842",
   "metadata": {},
   "outputs": [
    {
     "data": {
      "text/plain": [
       "1"
      ]
     },
     "execution_count": 105,
     "metadata": {},
     "output_type": "execute_result"
    }
   ],
   "source": [
    "next(list1)   # first element , one by one it will store variables in memory. number of times you execute the statement , it will get next value until end of list"
   ]
  },
  {
   "cell_type": "code",
   "execution_count": null,
   "id": "14fa1032-88be-46f1-97c4-70d9df2a4410",
   "metadata": {},
   "outputs": [],
   "source": [
    "# for loop can be implemeented for both : iterable and iterator"
   ]
  },
  {
   "cell_type": "code",
   "execution_count": 106,
   "id": "f14aea2b-b3d1-4004-afaf-b8f9e7ae7e21",
   "metadata": {},
   "outputs": [
    {
     "name": "stdout",
     "output_type": "stream",
     "text": [
      "2\n",
      "3\n",
      "4\n",
      "5\n"
     ]
    }
   ],
   "source": [
    "for i in list1:   #IN THE FOR LOOP , stop ITERATION IS AUTOMATICALLY HANDELLED. So when it reacheds to the last element from the list, it will not th'r error/exception\n",
    "    print(i)"
   ]
  },
  {
   "cell_type": "markdown",
   "id": "db118d0a-0d8f-4406-a8af-7832a17be6be",
   "metadata": {},
   "source": [
    "# Pyforest - lazy import library for datascience\n",
    "\n",
    "Pyforest is a Python package that aims to simplify and streamline the initial phase of the data analysis process by automatically importing commonly used libraries and functions. It is designed to reduce the time and effort required to set up the working environment for data analysis tasks.\r\n",
    "\r\n",
    "When you import pyforest, it automatically imports popular data science libraries such as Pandas, NumPy, Matplotlib, Seaborn, and others. This means you don't have to manually import these libraries one by one at the beginning of your script or notebook."
   ]
  },
  {
   "cell_type": "code",
   "execution_count": 108,
   "id": "5fcfe3d0-3d38-410b-861a-7e762267e745",
   "metadata": {},
   "outputs": [
    {
     "name": "stdout",
     "output_type": "stream",
     "text": [
      "Collecting Pyforest\n",
      "  Downloading pyforest-1.1.0.tar.gz (15 kB)\n",
      "  Preparing metadata (setup.py): started\n",
      "  Preparing metadata (setup.py): finished with status 'done'\n",
      "Building wheels for collected packages: Pyforest\n",
      "  Building wheel for Pyforest (setup.py): started\n",
      "  Building wheel for Pyforest (setup.py): finished with status 'done'\n",
      "  Created wheel for Pyforest: filename=pyforest-1.1.0-py2.py3-none-any.whl size=14630 sha256=8a6f0f14c0a8b16160598012b30142ff169fc1bcdf29fde77e5f6a2080ca6a01\n",
      "  Stored in directory: c:\\users\\shalm\\appdata\\local\\pip\\cache\\wheels\\18\\07\\8c\\5706b41a93ff7084fe45c880a6180b7278c08c31f1852660ea\n",
      "Successfully built Pyforest\n",
      "Installing collected packages: Pyforest\n",
      "Successfully installed Pyforest-1.1.0\n"
     ]
    }
   ],
   "source": [
    "#Here's a basic example of how to use pyforest:\n",
    "!pip install Pyforest\n",
    "\n",
    "\n",
    "# Now you can use Pandas, NumPy, Matplotlib, and other libraries without explicitly importing them\n"
   ]
  },
  {
   "cell_type": "code",
   "execution_count": 109,
   "id": "d6a8e279-d2bf-48ca-84e5-c745d89f1b58",
   "metadata": {},
   "outputs": [],
   "source": [
    "import pyforest"
   ]
  },
  {
   "cell_type": "markdown",
   "id": "0be5ef01-488b-4e1e-a285-374673f20c4c",
   "metadata": {},
   "source": [
    "Pyforest can be particularly useful for quickly prototyping data analysis code or for exploratory data analysis (EDA) tasks where you frequently use multiple libraries. However, it's important to note that using pyforest may lead to less transparent code, as the imported libraries are not explicitly listed in your code. Additionally, it may increase the startup time of your script or notebook due to the additional imports."
   ]
  },
  {
   "cell_type": "code",
   "execution_count": 110,
   "id": "4b9324f9-027f-4da0-8ea7-6048af4b31f6",
   "metadata": {},
   "outputs": [
    {
     "name": "stdout",
     "output_type": "stream",
     "text": [
      "\n"
     ]
    },
    {
     "data": {
      "text/plain": [
       "[]"
      ]
     },
     "execution_count": 110,
     "metadata": {},
     "output_type": "execute_result"
    }
   ],
   "source": [
    "active_imports()  # to check which libraries have been imported in your code"
   ]
  },
  {
   "cell_type": "code",
   "execution_count": null,
   "id": "089e6321-81d9-4aa5-9d3d-057b1621dc69",
   "metadata": {},
   "outputs": [],
   "source": []
  }
 ],
 "metadata": {
  "kernelspec": {
   "display_name": "Python 3 (ipykernel)",
   "language": "python",
   "name": "python3"
  },
  "language_info": {
   "codemirror_mode": {
    "name": "ipython",
    "version": 3
   },
   "file_extension": ".py",
   "mimetype": "text/x-python",
   "name": "python",
   "nbconvert_exporter": "python",
   "pygments_lexer": "ipython3",
   "version": "3.11.7"
  }
 },
 "nbformat": 4,
 "nbformat_minor": 5
}
