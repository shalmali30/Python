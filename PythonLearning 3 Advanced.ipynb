{
 "cells": [
  {
   "cell_type": "markdown",
   "id": "ab0c1ae3-d8fd-4b5f-88b3-0d5409f7191c",
   "metadata": {},
   "source": [
    "# OOPS in Python"
   ]
  },
  {
   "cell_type": "markdown",
   "id": "fad30ffc-8e85-4bc9-93ad-4e4d167b4bab",
   "metadata": {},
   "source": [
    "Creating class"
   ]
  },
  {
   "cell_type": "code",
   "execution_count": 1,
   "id": "b14972c5-0420-4625-b701-d71717098501",
   "metadata": {},
   "outputs": [],
   "source": [
    "class car:  # empty class\n",
    "    pass"
   ]
  },
  {
   "cell_type": "code",
   "execution_count": 2,
   "id": "0a01945f-25d0-4a75-9f04-5a656e11fa3e",
   "metadata": {},
   "outputs": [],
   "source": [
    "car1 =car()    #initialising object from above class . Tis is like a constructor"
   ]
  },
  {
   "cell_type": "code",
   "execution_count": 3,
   "id": "d5dfa3b3-ebd5-4954-82d0-0ee4257d8cd9",
   "metadata": {},
   "outputs": [
    {
     "data": {
      "text/plain": [
       "<__main__.car at 0x2936408df90>"
      ]
     },
     "execution_count": 3,
     "metadata": {},
     "output_type": "execute_result"
    }
   ],
   "source": [
    "car1"
   ]
  },
  {
   "cell_type": "code",
   "execution_count": 5,
   "id": "4122199a-4c85-4a4d-b949-5377c9955a1a",
   "metadata": {},
   "outputs": [],
   "source": [
    "car1.windows=5\n",
    "car1.doors=4    # I have created instance"
   ]
  },
  {
   "cell_type": "code",
   "execution_count": 6,
   "id": "bb45dad1-eda0-4cba-84e9-20dd5c35e699",
   "metadata": {},
   "outputs": [
    {
     "name": "stdout",
     "output_type": "stream",
     "text": [
      "5\n"
     ]
    }
   ],
   "source": [
    "print(car1.windows)"
   ]
  },
  {
   "cell_type": "code",
   "execution_count": 7,
   "id": "c044978a-95be-450f-805b-59d8c9b8234d",
   "metadata": {},
   "outputs": [],
   "source": [
    "car2=car()\n"
   ]
  },
  {
   "cell_type": "code",
   "execution_count": 8,
   "id": "70263734-d550-43d4-ab26-5a0973836a8f",
   "metadata": {},
   "outputs": [],
   "source": [
    "car2.windows=7\n",
    "car2.doors=2"
   ]
  },
  {
   "cell_type": "code",
   "execution_count": 9,
   "id": "3bd86629-0b5a-445f-a3c1-0b2420a0ba72",
   "metadata": {},
   "outputs": [
    {
     "data": {
      "text/plain": [
       "7"
      ]
     },
     "execution_count": 9,
     "metadata": {},
     "output_type": "execute_result"
    }
   ],
   "source": [
    "car2.windows"
   ]
  },
  {
   "cell_type": "code",
   "execution_count": 10,
   "id": "6268714b-7364-42f0-b1f3-ef6482e614ad",
   "metadata": {},
   "outputs": [],
   "source": [
    "car2.enginetype='Petrol'"
   ]
  },
  {
   "cell_type": "code",
   "execution_count": 11,
   "id": "f55e84c5-1ea4-4d43-b0d2-b8b2af2d9e79",
   "metadata": {},
   "outputs": [
    {
     "data": {
      "text/plain": [
       "'Petrol'"
      ]
     },
     "execution_count": 11,
     "metadata": {},
     "output_type": "execute_result"
    }
   ],
   "source": [
    "car2.enginetype"
   ]
  },
  {
   "cell_type": "markdown",
   "id": "205cd754-46f6-4ff4-ba19-8a886fa1f221",
   "metadata": {},
   "source": [
    " If you do not fix the number of objects /attributes a class can have. One can go ahead and create as many as they want\n",
    "\n",
    " This is bad way to create class"
   ]
  },
  {
   "cell_type": "code",
   "execution_count": 12,
   "id": "6bfa7ae9-12c3-4955-b660-f967b3a5592d",
   "metadata": {},
   "outputs": [
    {
     "data": {
      "text/plain": [
       "['__class__',\n",
       " '__delattr__',\n",
       " '__dict__',\n",
       " '__dir__',\n",
       " '__doc__',\n",
       " '__eq__',\n",
       " '__format__',\n",
       " '__ge__',\n",
       " '__getattribute__',\n",
       " '__getstate__',\n",
       " '__gt__',\n",
       " '__hash__',\n",
       " '__init__',\n",
       " '__init_subclass__',\n",
       " '__le__',\n",
       " '__lt__',\n",
       " '__module__',\n",
       " '__ne__',\n",
       " '__new__',\n",
       " '__reduce__',\n",
       " '__reduce_ex__',\n",
       " '__repr__',\n",
       " '__setattr__',\n",
       " '__sizeof__',\n",
       " '__str__',\n",
       " '__subclasshook__',\n",
       " '__weakref__',\n",
       " 'doors',\n",
       " 'windows']"
      ]
     },
     "execution_count": 12,
     "metadata": {},
     "output_type": "execute_result"
    }
   ],
   "source": [
    "dir(car1)"
   ]
  },
  {
   "cell_type": "markdown",
   "id": "4f4ccc07-f7dc-4fe5-9c40-64359022e7aa",
   "metadata": {},
   "source": [
    "#__init__     This acts as a contructor . __Init__ is used in order to initialize how many properties are getting used in that particular class"
   ]
  },
  {
   "cell_type": "code",
   "execution_count": 18,
   "id": "40ce67a5-ef77-4654-823e-0b5c16e68e31",
   "metadata": {},
   "outputs": [],
   "source": [
    "class car:\n",
    "    def __init__(self,windows,door,enginetype):  #creating 3 atributes \n",
    "        self.windows=windows\n",
    "        self.doors=door\n",
    "        self.enginetype=enginetype"
   ]
  },
  {
   "cell_type": "code",
   "execution_count": 15,
   "id": "95f0405e-ee9c-4e5f-8187-1be5733fb39b",
   "metadata": {},
   "outputs": [],
   "source": [
    "# we have class car , inside init function created 3 attributes. Now initialise the object from class car"
   ]
  },
  {
   "cell_type": "code",
   "execution_count": 23,
   "id": "54be4a7e-698b-4a8d-be23-d26973fd8f71",
   "metadata": {},
   "outputs": [
    {
     "ename": "TypeError",
     "evalue": "car.__init__() missing 3 required positional arguments: 'windows', 'door', and 'enginetype'",
     "output_type": "error",
     "traceback": [
      "\u001b[1;31m---------------------------------------------------------------------------\u001b[0m",
      "\u001b[1;31mTypeError\u001b[0m                                 Traceback (most recent call last)",
      "Cell \u001b[1;32mIn[23], line 1\u001b[0m\n\u001b[1;32m----> 1\u001b[0m car1\u001b[38;5;241m=\u001b[39mcar()\n",
      "\u001b[1;31mTypeError\u001b[0m: car.__init__() missing 3 required positional arguments: 'windows', 'door', and 'enginetype'"
     ]
    }
   ],
   "source": [
    "car1=car()   #this will not allow now "
   ]
  },
  {
   "cell_type": "code",
   "execution_count": 20,
   "id": "449657b3-0bd9-4197-8acf-155ddb770ab5",
   "metadata": {},
   "outputs": [],
   "source": [
    "car1 =car(5,4,'diesel')"
   ]
  },
  {
   "cell_type": "code",
   "execution_count": 21,
   "id": "a0769bc4-4dea-4f65-881d-129979d7f6ee",
   "metadata": {},
   "outputs": [],
   "source": [
    "car2 =car(3,4,'petrol')"
   ]
  },
  {
   "cell_type": "code",
   "execution_count": 22,
   "id": "ea082f51-9e12-490d-8611-650c48cd3bca",
   "metadata": {},
   "outputs": [
    {
     "name": "stdout",
     "output_type": "stream",
     "text": [
      "5\n"
     ]
    }
   ],
   "source": [
    "print(car1.windows)"
   ]
  },
  {
   "cell_type": "code",
   "execution_count": 24,
   "id": "1431dafb-52ce-4e2b-9665-aa2d725398b4",
   "metadata": {},
   "outputs": [
    {
     "name": "stdout",
     "output_type": "stream",
     "text": [
      "petrol\n"
     ]
    }
   ],
   "source": [
    "print(car2.enginetype)"
   ]
  },
  {
   "cell_type": "code",
   "execution_count": 36,
   "id": "4ef185e8-7ead-4652-ba4c-4b946276fa3e",
   "metadata": {},
   "outputs": [],
   "source": [
    "class car:\n",
    "    def __init__(self,windows,door,enginetype):  #creating 3 atributes . #self : to be able to access the attributes that we have initialised\n",
    "        self.windows=windows\n",
    "        self.doors=door\n",
    "        self.enginetype=enginetype         # this is method inside car\n",
    "    def self_driving(self):\n",
    "        return \"This is a {} car\".format(self.enginetype)  \n",
    "\n",
    "#self : to be able to access the attributes that we have initialised"
   ]
  },
  {
   "cell_type": "code",
   "execution_count": 34,
   "id": "1532609f-c37c-46d6-8fee-0c74ed9c9114",
   "metadata": {},
   "outputs": [],
   "source": [
    "car3=car(2,3,'petrol')"
   ]
  },
  {
   "cell_type": "code",
   "execution_count": 35,
   "id": "10bbd1b1-b805-4a28-a132-1cecfb6f6af1",
   "metadata": {},
   "outputs": [
    {
     "data": {
      "text/plain": [
       "'This is a petrol car'"
      ]
     },
     "execution_count": 35,
     "metadata": {},
     "output_type": "execute_result"
    }
   ],
   "source": [
    "car3.self_driving()"
   ]
  },
  {
   "cell_type": "code",
   "execution_count": 37,
   "id": "11781ec8-1120-4316-970f-d8fcc1ba7064",
   "metadata": {},
   "outputs": [
    {
     "name": "stdout",
     "output_type": "stream",
     "text": [
      "My name is Alice and I'm 25 years old.\n",
      "Hello, my name is Alice!\n",
      "Happy birthday to me! I'm now 26 years old.\n"
     ]
    }
   ],
   "source": [
    "class Person:\n",
    "    def __init__(self, name, age):\n",
    "        self.name = name\n",
    "        self.age = age\n",
    "    \n",
    "    def greet(self):\n",
    "        return f\"Hello, my name is {self.name}!\"\n",
    "    \n",
    "    def celebrate_birthday(self):\n",
    "        self.age += 1\n",
    "        return f\"Happy birthday to me! I'm now {self.age} years old.\"\n",
    "\n",
    "# Create an object of the Person class\n",
    "alice = Person(\"Alice\", 25)\n",
    "\n",
    "# Access attributes\n",
    "print(f\"My name is {alice.name} and I'm {alice.age} years old.\")\n",
    "\n",
    "# Call methods\n",
    "print(alice.greet())\n",
    "print(alice.celebrate_birthday())\n"
   ]
  },
  {
   "cell_type": "markdown",
   "id": "86fb75cc-df41-439c-9acb-7538fd43e9c7",
   "metadata": {},
   "source": [
    "In this example:\n",
    "\n",
    "We define a class called Person, which has attributes name and age, and methods greet and celebrate_birthday.\n",
    "When creating an object of the Person class (e.g., alice), we pass values for name and age as arguments to the __init__ method.\n",
    "We can access the attributes of the object using dot notation (e.g., alice.name, alice.age).\n",
    "We can call methods on the object (e.g., alice.greet(), alice.celebrate_birthday()), which perform operations related to the object's data."
   ]
  },
  {
   "cell_type": "markdown",
   "id": "d9cccbbb-4aa5-47bd-b173-b19baecaf661",
   "metadata": {},
   "source": [
    "Let's create a Person class and demonstrate encapsulation, polymorphism, and inheritance with it:\n",
    "\n",
    "#### Encapsulation:\n",
    "We'll encapsulate the name, age, and gender attributes of a person within the class and provide methods to access and modify these attributes.\n",
    "\n",
    "#### Polymorphism:\n",
    "We'll demonstrate polymorphism by defining different methods for different types of people (e.g., say_hello() for a generic person and say_hello_specific() for a specific type of person).\n",
    "\n",
    "#### Inheritance:\n",
    "We'll create a subclass Employee that inherits from the Person class and adds additional attributes and methods specific to employees."
   ]
  },
  {
   "cell_type": "code",
   "execution_count": 38,
   "id": "37429441-82ac-460b-b442-f6150199f28a",
   "metadata": {},
   "outputs": [
    {
     "name": "stdout",
     "output_type": "stream",
     "text": [
      "Alice\n",
      "Alice Smith\n",
      "Hello, I am Alice Smith.\n",
      "Hello, I am a generic person.\n",
      "Hello, I am Bob.\n",
      "Hello, I am an employee with ID EMP123.\n"
     ]
    }
   ],
   "source": [
    "class Person:\n",
    "    def __init__(self, name, age, gender):\n",
    "        self._name = name\n",
    "        self._age = age\n",
    "        self._gender = gender\n",
    "    \n",
    "    def get_name(self):\n",
    "        return self._name\n",
    "    \n",
    "    def set_name(self, name):\n",
    "        self._name = name\n",
    "    \n",
    "    def get_age(self):\n",
    "        return self._age\n",
    "    \n",
    "    def set_age(self, age):\n",
    "        self._age = age\n",
    "    \n",
    "    def get_gender(self):\n",
    "        return self._gender\n",
    "    \n",
    "    def set_gender(self, gender):\n",
    "        self._gender = gender\n",
    "    \n",
    "    def say_hello(self):\n",
    "        return \"Hello, I am {}.\".format(self._name)\n",
    "    \n",
    "    def say_hello_specific(self):\n",
    "        return \"Hello, I am a generic person.\"\n",
    "\n",
    "class Employee(Person):\n",
    "    def __init__(self, name, age, gender, employee_id):\n",
    "        super().__init__(name, age, gender)\n",
    "        self._employee_id = employee_id\n",
    "    \n",
    "    def get_employee_id(self):\n",
    "        return self._employee_id\n",
    "    \n",
    "    def set_employee_id(self, employee_id):\n",
    "        self._employee_id = employee_id\n",
    "    \n",
    "    def say_hello_specific(self):\n",
    "        return \"Hello, I am an employee with ID {}.\".format(self._employee_id)\n",
    "\n",
    "# Create a generic person\n",
    "person1 = Person(\"Alice\", 30, \"Female\")\n",
    "\n",
    "# Create an employee\n",
    "employee1 = Employee(\"Bob\", 25, \"Male\", \"EMP123\")\n",
    "\n",
    "# Test encapsulation\n",
    "print(person1.get_name())  # Output: Alice\n",
    "person1.set_name(\"Alice Smith\")\n",
    "print(person1.get_name())  # Output: Alice Smith\n",
    "\n",
    "# Test polymorphism\n",
    "print(person1.say_hello())  # Output: Hello, I am Alice.\n",
    "print(person1.say_hello_specific())  # Output: Hello, I am a generic person.\n",
    "print(employee1.say_hello())  # Output: Hello, I am Bob.\n",
    "print(employee1.say_hello_specific())  # Output: Hello, I am an employee with ID EMP123.\n"
   ]
  },
  {
   "cell_type": "markdown",
   "id": "4cb58b9c-4a4a-4f0e-ac25-bdc76dbc7b51",
   "metadata": {},
   "source": [
    "In this code:\n",
    "\n",
    "The Person class encapsulates the name, age, and gender attributes and provides getter and setter methods for accessing and modifying them.\n",
    "The say_hello() method demonstrates polymorphism by providing a generic greeting for all people.\n",
    "The Employee class inherits from the Person class and adds an employee_id attribute and a specific implementation of the say_hello_specific() method.\n",
    "We create instances of both the Person and Employee classes and demonstrate encapsulation, polymorphism, and inheritance through method calls and attribute access."
   ]
  },
  {
   "cell_type": "code",
   "execution_count": null,
   "id": "845329c5-2eb1-42b4-81e6-375d8abf3bd2",
   "metadata": {},
   "outputs": [],
   "source": []
  }
 ],
 "metadata": {
  "kernelspec": {
   "display_name": "Python 3 (ipykernel)",
   "language": "python",
   "name": "python3"
  },
  "language_info": {
   "codemirror_mode": {
    "name": "ipython",
    "version": 3
   },
   "file_extension": ".py",
   "mimetype": "text/x-python",
   "name": "python",
   "nbconvert_exporter": "python",
   "pygments_lexer": "ipython3",
   "version": "3.11.7"
  }
 },
 "nbformat": 4,
 "nbformat_minor": 5
}
